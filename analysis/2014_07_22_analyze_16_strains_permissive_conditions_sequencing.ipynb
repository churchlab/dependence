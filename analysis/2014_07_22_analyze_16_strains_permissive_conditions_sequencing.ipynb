{
 "metadata": {
  "name": "",
  "signature": "sha256:02a2975b088b0a17446aa981317847c194885d51fa583ff9c51b743d6110143a"
 },
 "nbformat": 3,
 "nbformat_minor": 0,
 "worksheets": [
  {
   "cells": [
    {
     "cell_type": "code",
     "collapsed": false,
     "input": [
      "import os\n",
      "import re\n",
      "\n",
      "from Bio import SeqIO\n",
      "import pandas as pd\n",
      "\n",
      "import dep_analysis_common"
     ],
     "language": "python",
     "metadata": {},
     "outputs": [],
     "prompt_number": 44
    },
    {
     "cell_type": "markdown",
     "metadata": {},
     "source": [
      "## Import Data"
     ]
    },
    {
     "cell_type": "code",
     "collapsed": false,
     "input": [
      "variants_df = pd.read_csv('data/2014_07_22_millstone_export_16_strains_permissive.csv')\n",
      "\n",
      "# Get rid of rows that don't have sample in them (catch-all rows for VariantSets).\n",
      "variants_df = variants_df[variants_df['EXPERIMENT_SAMPLE_LABEL'].notnull()]"
     ],
     "language": "python",
     "metadata": {},
     "outputs": [],
     "prompt_number": 10
    },
    {
     "cell_type": "markdown",
     "metadata": {},
     "source": [
      "## Miscellaneous helpful info"
     ]
    },
    {
     "cell_type": "code",
     "collapsed": false,
     "input": [
      "variants_df.CHROMOSOME.unique()"
     ],
     "language": "python",
     "metadata": {},
     "outputs": [
      {
       "metadata": {},
       "output_type": "pyout",
       "prompt_number": 11,
       "text": [
        "array(['pEVOL-bipA', 'CP006698'], dtype=object)"
       ]
      }
     ],
     "prompt_number": 11
    },
    {
     "cell_type": "code",
     "collapsed": false,
     "input": [
      "strain_names = variants_df.EXPERIMENT_SAMPLE_LABEL.unique()\n",
      "strain_names"
     ],
     "language": "python",
     "metadata": {},
     "outputs": [
      {
       "metadata": {},
       "output_type": "pyout",
       "prompt_number": 12,
       "text": [
        "array(['dep6', 'dep16', 'dep10', 'dep3', 'dep9', 'dep13', 'dep11', 'dep8',\n",
        "       'dep12', 'dep1', 'dep5', 'dep2', 'dep14', 'dep7', 'dep4', 'dep15'], dtype=object)"
       ]
      }
     ],
     "prompt_number": 12
    },
    {
     "cell_type": "markdown",
     "metadata": {},
     "source": [
      "## Add more semantic gene data\n",
      "\n",
      "Add more semantic data about the mutations, including any features that the mutation falls inside of or any features that the mutation is upstream of."
     ]
    },
    {
     "cell_type": "code",
     "collapsed": false,
     "input": [
      "with open('../data/CP006698.gb') as fh:\n",
      "    CP006698_seq_record = SeqIO.read(fh, 'genbank')\n",
      "    \n",
      "with open('../data/pEVOL-bipA.gb') as fh:\n",
      "    pEVOL_bipA_seq_record = SeqIO.read(fh, 'genbank')\n",
      "    \n",
      "# Map from CHROMOSOME name in data to the corresponding SeqRecord.\n",
      "CHROM_TO_SEQ_RECORD = {\n",
      "    'CP006698': CP006698_seq_record,\n",
      "    'pEVOL-bipA': pEVOL_bipA_seq_record\n",
      "}\n",
      "assert set(CHROM_TO_SEQ_RECORD.keys()) == set(variants_df.CHROMOSOME.unique())"
     ],
     "language": "python",
     "metadata": {},
     "outputs": [],
     "prompt_number": 15
    },
    {
     "cell_type": "markdown",
     "metadata": {},
     "source": [
      "Write a rudimentary function for checking which features an interval overlaps and build a map with this information.\n",
      "In lieu of a proper interval tree data structure, we'll arrange the features of the above SeqRecords in start position order"
     ]
    },
    {
     "cell_type": "code",
     "collapsed": false,
     "input": [
      "sort_seq_record_features_by_start(CP006698_seq_record)\n",
      "sort_seq_record_features_by_start(pEVOL_bipA_seq_record)"
     ],
     "language": "python",
     "metadata": {},
     "outputs": [],
     "prompt_number": 16
    },
    {
     "cell_type": "code",
     "collapsed": false,
     "input": [
      "reload(dep_analysis_common)\n",
      "\n",
      "# Map from (chrom. pos) tuple to various types of features overlapped.\n",
      "chrom_pos_tuple_to_features_overlapped = {}\n",
      "\n",
      "for idx, row in variants_df.iterrows():\n",
      "    (chrom, pos) = row['CHROMOSOME'], row['POSITION']\n",
      "    if (chrom, pos) in chrom_pos_tuple_to_features_overlapped:\n",
      "        continue\n",
      "    value_dict = {}\n",
      "    seq_record = CHROM_TO_SEQ_RECORD[chrom]\n",
      "    overlaps_features = find_features_overlapped_by_position(pos, seq_record)\n",
      "    overlaps_features = dep_analysis_common.filter_features(overlaps_features)\n",
      "    \n",
      "    # Get nearby features, as defined by interval of interest.\n",
      "    nearby_interval = (\n",
      "            max(0, pos - dep_analysis_common.INTERVAL_SIZE),\n",
      "            min(len(seq_record), pos + dep_analysis_common.INTERVAL_SIZE)\n",
      "    )\n",
      "    nearby_features = find_features_overlapped_by_interval(nearby_interval, seq_record)\n",
      "    nearby_features = dep_analysis_common.filter_features(nearby_features)\n",
      "    nearby_features = [f for f in nearby_features if not f in overlaps_features]\n",
      "    \n",
      "    # Bucket the features into position being upstream or downstream of feature.\n",
      "    bucketed_nearby_features = dep_analysis_common.bucket_nearby_features(nearby_features, pos)\n",
      "    \n",
      "    # Update the map\n",
      "    chrom_pos_tuple_to_features_overlapped[(chrom, pos)] = {\n",
      "        'overlaps_features': overlaps_features,\n",
      "        'snv_is_upstream_of': bucketed_nearby_features['snv_is_upstream_of'],\n",
      "        'snv_is_downstream_of': bucketed_nearby_features['snv_is_downstream_of'],\n",
      "    }\n",
      "    \n"
     ],
     "language": "python",
     "metadata": {},
     "outputs": [],
     "prompt_number": 33
    },
    {
     "cell_type": "code",
     "collapsed": false,
     "input": [
      "reload(dep_analysis_common)\n",
      "\n",
      "# Add columns to DataFrame with gene info.\n",
      "get_feature_label = dep_analysis_common.get_feature_label\n",
      "\n",
      "def get_feature_metadata(row):\n",
      "    (chrom, pos) = row['CHROMOSOME'], row['POSITION']\n",
      "    feature_metadata = chrom_pos_tuple_to_features_overlapped[(chrom, pos)]\n",
      "    overlap_feature_names = list(set([get_feature_label(f) for f in feature_metadata['overlaps_features']]))\n",
      "    upstream_of = list(set([get_feature_label(f) for f in feature_metadata['snv_is_upstream_of']]))\n",
      "    downstream_of = list(set([get_feature_label(f) for f in feature_metadata['snv_is_downstream_of']]))\n",
      "    return pd.Series({\n",
      "        'overlaps_features': overlap_feature_names,\n",
      "        'snv_is_upstream_of': upstream_of,\n",
      "        'snv_is_downstream_of': downstream_of\n",
      "    })\n",
      "variants_with_gene_info_df = variants_df.join(variants_df.apply(get_feature_metadata, axis=1))"
     ],
     "language": "python",
     "metadata": {},
     "outputs": [],
     "prompt_number": 53
    },
    {
     "cell_type": "markdown",
     "metadata": {},
     "source": [
      "## Analyze Variants"
     ]
    },
    {
     "cell_type": "code",
     "collapsed": false,
     "input": [
      "def is_variant_of_interest(row):\n",
      "    if not row['GT_TYPE'] in (1, 2):\n",
      "        return False\n",
      "    if not row['CHROMOSOME'] == 'CP006698':\n",
      "        return False\n",
      "    # Passes gauntlet.\n",
      "    return True\n",
      "variants_with_gene_info_df['is_variant_of_interest'] = variants_with_gene_info_df.apply(is_variant_of_interest, axis=1)\n",
      "variants_of_interest_df = variants_with_gene_info_df[\n",
      "        variants_with_gene_info_df.is_variant_of_interest]\n",
      "len(variants_of_interest_df)"
     ],
     "language": "python",
     "metadata": {},
     "outputs": [
      {
       "metadata": {},
       "output_type": "pyout",
       "prompt_number": 54,
       "text": [
        "3674"
       ]
      }
     ],
     "prompt_number": 54
    },
    {
     "cell_type": "markdown",
     "metadata": {},
     "source": [
      "## Write Output"
     ]
    },
    {
     "cell_type": "code",
     "collapsed": false,
     "input": [
      "OUTPUT_DEST = 'data/2014_07_22_variants_in_18_escapees.csv'\n",
      "\n",
      "DISPLAY_COLS = [\n",
      "    'POSITION',\n",
      "    'CHROMOSOME',\n",
      "    'REF',\n",
      "    'ALT',\n",
      "    'EXPERIMENT_SAMPLE_LABEL',\n",
      "    'GT_TYPE',\n",
      "    'overlaps_features',\n",
      "    'snv_is_downstream_of',\n",
      "    'snv_is_upstream_of'\n",
      "]\n",
      "variants_of_interest_df[DISPLAY_COLS].to_csv(OUTPUT_DEST, index=False)\n",
      "\n",
      "ALL_COLS_OUTPUT_DEST = os.path.splitext(OUTPUT_DEST)[0] + '.all_cols.csv'\n",
      "variants_of_interest_df.to_csv(ALL_COLS_OUTPUT_DEST, index=False)"
     ],
     "language": "python",
     "metadata": {},
     "outputs": [],
     "prompt_number": 55
    }
   ],
   "metadata": {}
  }
 ]
}