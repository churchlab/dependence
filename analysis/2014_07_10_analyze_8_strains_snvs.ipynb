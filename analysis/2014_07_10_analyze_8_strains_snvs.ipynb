{
 "metadata": {
  "name": ""
 },
 "nbformat": 3,
 "nbformat_minor": 0,
 "worksheets": [
  {
   "cells": [
    {
     "cell_type": "code",
     "collapsed": false,
     "input": [
      "import re\n",
      "\n",
      "import pandas as pd"
     ],
     "language": "python",
     "metadata": {},
     "outputs": [],
     "prompt_number": 22
    },
    {
     "cell_type": "markdown",
     "metadata": {},
     "source": [
      "## Import Data"
     ]
    },
    {
     "cell_type": "code",
     "collapsed": false,
     "input": [
      "variants_df = pd.read_csv('2014_07_10_millstone_export_8_strains.csv')\n",
      "\n",
      "# Get rid of rows that don't have sample in them (catch-all rows for VariantSets).\n",
      "variants_df = variants_df[variants_df['EXPERIMENT_SAMPLE_LABEL'].notnull()]\n",
      "\n",
      "# Add lineage column for convenience.\n",
      "variants_df['lineage'] = variants_df.EXPERIMENT_SAMPLE_LABEL.apply(\n",
      "        lambda l: 'adk' if re.match('adk', l) else 'tyrS')\n",
      "variants_df[['POSITION', 'EXPERIMENT_SAMPLE_LABEL', 'lineage']]\n",
      "\n",
      "print len(variants_df)"
     ],
     "language": "python",
     "metadata": {},
     "outputs": [
      {
       "output_type": "stream",
       "stream": "stdout",
       "text": [
        "432\n"
       ]
      }
     ],
     "prompt_number": 42
    },
    {
     "cell_type": "code",
     "collapsed": false,
     "input": [
      "variants_df[:5][['INFO_EFF_GENE']]"
     ],
     "language": "python",
     "metadata": {},
     "outputs": [
      {
       "html": [
        "<div style=\"max-height:1000px;max-width:1500px;overflow:auto;\">\n",
        "<table border=\"1\" class=\"dataframe\">\n",
        "  <thead>\n",
        "    <tr style=\"text-align: right;\">\n",
        "      <th></th>\n",
        "      <th>INFO_EFF_GENE</th>\n",
        "    </tr>\n",
        "  </thead>\n",
        "  <tbody>\n",
        "    <tr>\n",
        "      <th>0</th>\n",
        "      <td> NaN</td>\n",
        "    </tr>\n",
        "    <tr>\n",
        "      <th>1</th>\n",
        "      <td> NaN</td>\n",
        "    </tr>\n",
        "    <tr>\n",
        "      <th>2</th>\n",
        "      <td> NaN</td>\n",
        "    </tr>\n",
        "    <tr>\n",
        "      <th>3</th>\n",
        "      <td> NaN</td>\n",
        "    </tr>\n",
        "    <tr>\n",
        "      <th>4</th>\n",
        "      <td> NaN</td>\n",
        "    </tr>\n",
        "  </tbody>\n",
        "</table>\n",
        "<p>5 rows \u00d7 1 columns</p>\n",
        "</div>"
       ],
       "metadata": {},
       "output_type": "pyout",
       "prompt_number": 45,
       "text": [
        "  INFO_EFF_GENE\n",
        "0           NaN\n",
        "1           NaN\n",
        "2           NaN\n",
        "3           NaN\n",
        "4           NaN\n",
        "\n",
        "[5 rows x 1 columns]"
       ]
      }
     ],
     "prompt_number": 45
    },
    {
     "cell_type": "code",
     "collapsed": false,
     "input": [
      "strain_names = variants_df.EXPERIMENT_SAMPLE_LABEL.unique()\n",
      "strain_names"
     ],
     "language": "python",
     "metadata": {},
     "outputs": [
      {
       "metadata": {},
       "output_type": "pyout",
       "prompt_number": 10,
       "text": [
        "array(['adk.d6_Esc3', 'adk.d6_Esc1', 'adk.d6_Esc2', 'tyrS.d8_Esc1',\n",
        "       'adk.d6_DEP', 'tyrS.d8_DEP', 'tyrS.d8_Esc3', 'tyrS.d8_Esc2'], dtype=object)"
       ]
      }
     ],
     "prompt_number": 10
    },
    {
     "cell_type": "markdown",
     "metadata": {},
     "source": [
      "## Add more semantic gene data"
     ]
    },
    {
     "cell_type": "markdown",
     "metadata": {},
     "source": [
      "Add more semantic data about the mutations, including any features that the mutation falls inside of or any features that the mutation is upstream of."
     ]
    },
    {
     "cell_type": "markdown",
     "metadata": {},
     "source": [
      "## Analyze variants\n",
      "\n",
      "Identify mutations that are not called in parent strains."
     ]
    },
    {
     "cell_type": "code",
     "collapsed": false,
     "input": [
      "def get_none_mutations_in_strain(strain_label):\n",
      "    return variants_df[variants_df.apply(\n",
      "            lambda row: row['EXPERIMENT_SAMPLE_LABEL'] == strain_label and\n",
      "                    (row['GT_TYPE'] == 0 or row['GT_TYPE'] == 1), axis=1)]\n",
      "\n",
      "var_positions_in_adk_d6_dependent_strain = get_none_mutations_in_strain('adk.d6_DEP')\n",
      "print len(var_positions_in_adk_d6)\n",
      "var_positions_in_tyrS_d8_dependent_strain = get_none_mutations_in_strain('tyrS.d8_DEP')\n",
      "print len(var_positions_in_tyrS_d8)"
     ],
     "language": "python",
     "metadata": {},
     "outputs": [
      {
       "output_type": "stream",
       "stream": "stdout",
       "text": [
        "18\n",
        "15\n"
       ]
      }
     ],
     "prompt_number": 25
    },
    {
     "cell_type": "markdown",
     "metadata": {},
     "source": [
      "Now we look at the mutations that are not in the initial strains."
     ]
    },
    {
     "cell_type": "code",
     "collapsed": false,
     "input": [
      "def is_new_variant(row):\n",
      "    if row['lineage'] == 'adk':\n",
      "        reference_position_set = var_positions_in_adk_d6_dependent_strain\n",
      "    elif row['lineage'] == 'tyrS':\n",
      "        reference_position_set = var_positions_in_tyrS_d8_dependent_strain\n",
      "    else:\n",
      "        raise AssertionError(\"Unknown lineage\")\n",
      "        \n",
      "    return row['GT_TYPE'] in (1, 2) and not row['POSITION'] in reference_position_set"
     ],
     "language": "python",
     "metadata": {},
     "outputs": [],
     "prompt_number": 33
    },
    {
     "cell_type": "code",
     "collapsed": false,
     "input": [
      "variants_df['is_new_variant'] = variants_df.apply(is_new_variant, axis=1)\n",
      "variants_df[['POSITION', 'EXPERIMENT_SAMPLE_LABEL', 'GT_TYPE', 'is_new_variant']][:3]"
     ],
     "language": "python",
     "metadata": {},
     "outputs": [
      {
       "html": [
        "<div style=\"max-height:1000px;max-width:1500px;overflow:auto;\">\n",
        "<table border=\"1\" class=\"dataframe\">\n",
        "  <thead>\n",
        "    <tr style=\"text-align: right;\">\n",
        "      <th></th>\n",
        "      <th>POSITION</th>\n",
        "      <th>EXPERIMENT_SAMPLE_LABEL</th>\n",
        "      <th>GT_TYPE</th>\n",
        "      <th>is_new_variant</th>\n",
        "    </tr>\n",
        "  </thead>\n",
        "  <tbody>\n",
        "    <tr>\n",
        "      <th>0</th>\n",
        "      <td> 3386</td>\n",
        "      <td> adk.d6_Esc3</td>\n",
        "      <td> 2</td>\n",
        "      <td> True</td>\n",
        "    </tr>\n",
        "    <tr>\n",
        "      <th>1</th>\n",
        "      <td> 3386</td>\n",
        "      <td> adk.d6_Esc1</td>\n",
        "      <td> 2</td>\n",
        "      <td> True</td>\n",
        "    </tr>\n",
        "    <tr>\n",
        "      <th>2</th>\n",
        "      <td> 3386</td>\n",
        "      <td> adk.d6_Esc2</td>\n",
        "      <td> 2</td>\n",
        "      <td> True</td>\n",
        "    </tr>\n",
        "  </tbody>\n",
        "</table>\n",
        "<p>3 rows \u00d7 4 columns</p>\n",
        "</div>"
       ],
       "metadata": {},
       "output_type": "pyout",
       "prompt_number": 38,
       "text": [
        "   POSITION EXPERIMENT_SAMPLE_LABEL  GT_TYPE is_new_variant\n",
        "0      3386             adk.d6_Esc3        2           True\n",
        "1      3386             adk.d6_Esc1        2           True\n",
        "2      3386             adk.d6_Esc2        2           True\n",
        "\n",
        "[3 rows x 4 columns]"
       ]
      }
     ],
     "prompt_number": 38
    },
    {
     "cell_type": "code",
     "collapsed": false,
     "input": [
      "len(variants_df[variants_df.is_new_variant])"
     ],
     "language": "python",
     "metadata": {},
     "outputs": [
      {
       "metadata": {},
       "output_type": "pyout",
       "prompt_number": 40,
       "text": [
        "309"
       ]
      }
     ],
     "prompt_number": 40
    }
   ],
   "metadata": {}
  }
 ]
}