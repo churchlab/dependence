{
 "metadata": {
  "name": ""
 },
 "nbformat": 3,
 "nbformat_minor": 0,
 "worksheets": [
  {
   "cells": [
    {
     "cell_type": "code",
     "collapsed": false,
     "input": [
      "import re\n",
      "\n",
      "import pandas as pd"
     ],
     "language": "python",
     "metadata": {},
     "outputs": [],
     "prompt_number": 1
    },
    {
     "cell_type": "code",
     "collapsed": false,
     "input": [
      "from Bio import SeqIO"
     ],
     "language": "python",
     "metadata": {},
     "outputs": [],
     "prompt_number": 2
    },
    {
     "cell_type": "markdown",
     "metadata": {},
     "source": [
      "## Import Data"
     ]
    },
    {
     "cell_type": "code",
     "collapsed": false,
     "input": [
      "variants_df = pd.read_csv('2014_07_10_millstone_export_8_strains.csv')\n",
      "\n",
      "# Get rid of rows that don't have sample in them (catch-all rows for VariantSets).\n",
      "variants_df = variants_df[variants_df['EXPERIMENT_SAMPLE_LABEL'].notnull()]\n",
      "\n",
      "# Add lineage column for convenience.\n",
      "variants_df['lineage'] = variants_df.EXPERIMENT_SAMPLE_LABEL.apply(\n",
      "        lambda l: 'adk' if re.match('adk', l) else 'tyrS')\n",
      "variants_df[['POSITION', 'EXPERIMENT_SAMPLE_LABEL', 'lineage']]\n",
      "\n",
      "print len(variants_df)"
     ],
     "language": "python",
     "metadata": {},
     "outputs": [
      {
       "output_type": "stream",
       "stream": "stdout",
       "text": [
        "432\n"
       ]
      }
     ],
     "prompt_number": 3
    },
    {
     "cell_type": "code",
     "collapsed": false,
     "input": [
      "variants_df[:5][['INFO_EFF_GENE']]"
     ],
     "language": "python",
     "metadata": {},
     "outputs": [
      {
       "html": [
        "<div style=\"max-height:1000px;max-width:1500px;overflow:auto;\">\n",
        "<table border=\"1\" class=\"dataframe\">\n",
        "  <thead>\n",
        "    <tr style=\"text-align: right;\">\n",
        "      <th></th>\n",
        "      <th>INFO_EFF_GENE</th>\n",
        "    </tr>\n",
        "  </thead>\n",
        "  <tbody>\n",
        "    <tr>\n",
        "      <th>0</th>\n",
        "      <td> NaN</td>\n",
        "    </tr>\n",
        "    <tr>\n",
        "      <th>1</th>\n",
        "      <td> NaN</td>\n",
        "    </tr>\n",
        "    <tr>\n",
        "      <th>2</th>\n",
        "      <td> NaN</td>\n",
        "    </tr>\n",
        "    <tr>\n",
        "      <th>3</th>\n",
        "      <td> NaN</td>\n",
        "    </tr>\n",
        "    <tr>\n",
        "      <th>4</th>\n",
        "      <td> NaN</td>\n",
        "    </tr>\n",
        "  </tbody>\n",
        "</table>\n",
        "<p>5 rows \u00d7 1 columns</p>\n",
        "</div>"
       ],
       "metadata": {},
       "output_type": "pyout",
       "prompt_number": 4,
       "text": [
        "  INFO_EFF_GENE\n",
        "0           NaN\n",
        "1           NaN\n",
        "2           NaN\n",
        "3           NaN\n",
        "4           NaN\n",
        "\n",
        "[5 rows x 1 columns]"
       ]
      }
     ],
     "prompt_number": 4
    },
    {
     "cell_type": "code",
     "collapsed": false,
     "input": [
      "variants_df.CHROMOSOME.unique()"
     ],
     "language": "python",
     "metadata": {},
     "outputs": [
      {
       "metadata": {},
       "output_type": "pyout",
       "prompt_number": 5,
       "text": [
        "array(['pEVOL-bipA', 'CP006698'], dtype=object)"
       ]
      }
     ],
     "prompt_number": 5
    },
    {
     "cell_type": "code",
     "collapsed": false,
     "input": [
      "strain_names = variants_df.EXPERIMENT_SAMPLE_LABEL.unique()\n",
      "strain_names"
     ],
     "language": "python",
     "metadata": {},
     "outputs": [
      {
       "metadata": {},
       "output_type": "pyout",
       "prompt_number": 6,
       "text": [
        "array(['adk.d6_Esc3', 'adk.d6_Esc1', 'adk.d6_Esc2', 'tyrS.d8_Esc1',\n",
        "       'adk.d6_DEP', 'tyrS.d8_DEP', 'tyrS.d8_Esc3', 'tyrS.d8_Esc2'], dtype=object)"
       ]
      }
     ],
     "prompt_number": 6
    },
    {
     "cell_type": "markdown",
     "metadata": {},
     "source": [
      "## Add more semantic gene data"
     ]
    },
    {
     "cell_type": "markdown",
     "metadata": {},
     "source": [
      "Add more semantic data about the mutations, including any features that the mutation falls inside of or any features that the mutation is upstream of."
     ]
    },
    {
     "cell_type": "code",
     "collapsed": false,
     "input": [
      "with open('../data/CP006698.gb') as fh:\n",
      "    CP006698_seq_record = SeqIO.read(fh, 'genbank')\n",
      "    \n",
      "with open('../data/pEVOL-bipA.gb') as fh:\n",
      "    pEVOL_bipA_seq_record = SeqIO.read(fh, 'genbank')\n",
      "    \n",
      "# Map from CHROMOSOME name in data to the corresponding SeqRecord.\n",
      "CHROM_TO_SEQ_RECORD = {\n",
      "    'CP006698': CP006698_seq_record,\n",
      "    'pEVOL-bipA': pEVOL_bipA_seq_record\n",
      "}\n",
      "assert set(CHROM_TO_SEQ_RECORD.keys()) == set(variants_df.CHROMOSOME.unique())"
     ],
     "language": "python",
     "metadata": {},
     "outputs": [],
     "prompt_number": 7
    },
    {
     "cell_type": "markdown",
     "metadata": {},
     "source": [
      "Write a rudimentary function for checking which features an interval overlaps and build a map with this information."
     ]
    },
    {
     "cell_type": "markdown",
     "metadata": {},
     "source": [
      "In lieu of a proper interval tree data structure, we'll arrange the features of the above SeqRecords in start position order"
     ]
    },
    {
     "cell_type": "code",
     "collapsed": false,
     "input": [
      "def sort_seq_record_features_by_start(seq_record):\n",
      "    seq_record.features = sorted(seq_record.features, key=lambda f: f.location.start)\n",
      "sort_seq_record_features_by_start(CP006698_seq_record)\n",
      "sort_seq_record_features_by_start(pEVOL_bipA_seq_record)"
     ],
     "language": "python",
     "metadata": {},
     "outputs": [],
     "prompt_number": 8
    },
    {
     "cell_type": "code",
     "collapsed": false,
     "input": [
      "# Interval around position that we search.\n",
      "INTERVAL_SIZE = 300\n",
      "\n",
      "# Map from (chrom. pos) tuple to various types of features overlapped.\n",
      "chrom_pos_tuple_to_features_overlapped = {}\n",
      "\n",
      "\n",
      "def _is_position_in_interval(position, interval):\n",
      "    return interval[0] <= position <= interval[1]\n",
      "\n",
      "\n",
      "def _does_interval_overlap_feature(interval, feature):\n",
      "    \"\"\"Checks whether the given interval overlaps the feature's location.\n",
      "\n",
      "    Args:\n",
      "        interval: A two-tuple of integers (start, end).\n",
      "        feature: A SeqFeature.\n",
      "\n",
      "    Returns:\n",
      "        A boolean indicating whether the features overlap.\n",
      "    \"\"\"\n",
      "    interval_start = interval[0]\n",
      "    interval_end = interval[1]\n",
      "\n",
      "    if feature.location.start == interval_start:\n",
      "        # >>>>>>>>>\n",
      "        # (....)\n",
      "        return interval_end - interval_start > 0\n",
      "\n",
      "    elif feature.location.start < interval_start:\n",
      "        # >>>>>>>>>\n",
      "        #    (..........)\n",
      "        return feature.location.end > interval_start\n",
      "\n",
      "    else:\n",
      "        #      >>>>>>>>>\n",
      "        # (........)\n",
      "        return feature.location.start < interval_end\n",
      "\n",
      "\n",
      "def find_features_overlapped_by_position(position, features_sorted_seq_record):\n",
      "    features_overlapped = []\n",
      "    for feature in features_sorted_seq_record.features:\n",
      "        if feature.location.start > position:\n",
      "            # No need to look further since features are sorted by\n",
      "            # start position.\n",
      "            break\n",
      "        feature_interval = (feature.location.start, feature.location.end)\n",
      "        if _is_position_in_interval(position, feature_interval):\n",
      "            features_overlapped.append(feature)\n",
      "    return features_overlapped\n",
      "\n",
      "\n",
      "def find_features_overlapped_by_interval(interval, features_sorted_seq_record):\n",
      "    features_overlapped = []\n",
      "    for feature in features_sorted_seq_record.features:\n",
      "        if feature.location.start > interval[1]:\n",
      "            # No need to look further since features are sorted by\n",
      "            # start position.\n",
      "            break\n",
      "        if _does_interval_overlap_feature(interval, feature):\n",
      "            features_overlapped.append(feature)\n",
      "    return features_overlapped\n",
      "\n",
      "\n",
      "IGNORE_FEATURE_TYPES = [\n",
      "    'source',\n",
      "    'repeat_region',\n",
      "    'mobile_element',\n",
      "    'variation',\n",
      "]\n",
      "\n",
      "def _filter_features(features):\n",
      "    \"\"\"Remove duplicates and other unwanted features.\n",
      "    \"\"\"\n",
      "    # Remove ignored types\n",
      "    filtered = [f for f in features if not f.type in IGNORE_FEATURE_TYPES] \n",
      "    \n",
      "    return filtered\n",
      "\n",
      "\n",
      "def _bucket_nearby_features(features, position):\n",
      "    \"\"\"Sorts into upstream and downstream, filtering out those that are overlapped.\n",
      "    \"\"\"\n",
      "    upstream_of = []\n",
      "    downstream_of = []\n",
      "    for feature in features:\n",
      "        # xxxxxxxx .\n",
      "        if feature.location.end < position:\n",
      "            # >>>>>>>> .\n",
      "            if feature.strand == 1:\n",
      "                downstream_of.append(feature)\n",
      "            # <<<<<<<< .\n",
      "            else:\n",
      "                upstream_of.append(feature)\n",
      "        # . xxxxxxxxx\n",
      "        else:\n",
      "            assert feature.location.start > position\n",
      "            # . >>>>>>>>>\n",
      "            if feature.strand == 1:\n",
      "                upstream_of.append(feature)\n",
      "            # . <<<<<<<<<\n",
      "            else:\n",
      "                downstream_of.append(feature)\n",
      "        \n",
      "    return {\n",
      "        'snv_is_upstream_of': upstream_of,\n",
      "        'snv_is_downstream_of': downstream_of\n",
      "    }\n",
      "\n",
      "\n",
      "for idx, row in variants_df.iterrows():\n",
      "    (chrom, pos) = row['CHROMOSOME'], row['POSITION']\n",
      "    if (chrom, pos) in chrom_pos_tuple_to_features_overlapped:\n",
      "        continue\n",
      "    value_dict = {}\n",
      "    seq_record = CHROM_TO_SEQ_RECORD[chrom]\n",
      "    overlaps_features = find_features_overlapped_by_position(pos, seq_record)\n",
      "    overlaps_features = _filter_features(overlaps_features)\n",
      "    \n",
      "    # Get nearby features, as defined by interval of interest.\n",
      "    nearby_interval = (max(0, pos - INTERVAL_SIZE), min(len(seq_record), pos + INTERVAL_SIZE))\n",
      "    nearby_features = find_features_overlapped_by_interval(nearby_interval, seq_record)\n",
      "    nearby_features = _filter_features(nearby_features)\n",
      "    nearby_features = [f for f in nearby_features if not f in overlaps_features]\n",
      "    \n",
      "    # Bucket the features into position being upstream or downstream of feature.\n",
      "    bucketed_nearby_features = _bucket_nearby_features(nearby_features, pos)\n",
      "    \n",
      "    # Update the map\n",
      "    chrom_pos_tuple_to_features_overlapped[(chrom, pos)] = {\n",
      "        'overlaps_features': overlaps_features,\n",
      "        'snv_is_upstream_of': bucketed_nearby_features['snv_is_upstream_of'],\n",
      "        'snv_is_downstream_of': bucketed_nearby_features['snv_is_downstream_of'],\n",
      "    }\n",
      "\n",
      "#Add columns to DataFrame with gene info.\n",
      "\n",
      "def get_feature_label(feature):\n",
      "    try_name_qualifier_keys = ['label', 'gene', 'note', 'operon']\n",
      "    label = None\n",
      "    for key in try_name_qualifier_keys:\n",
      "        if key in feature.qualifiers:\n",
      "            label = feature.qualifiers[key][0]\n",
      "            break\n",
      "    if label:\n",
      "        if len(label) > 20:\n",
      "            return label[:10] + '...'\n",
      "        return label\n",
      "    print feature, feature.qualifiers\n",
      "    assert False\n",
      "    \n",
      "def get_feature_metadata(row):\n",
      "    (chrom, pos) = row['CHROMOSOME'], row['POSITION']\n",
      "    feature_metadata = chrom_pos_tuple_to_features_overlapped[(chrom, pos)]\n",
      "    overlap_feature_names = list(set([get_feature_label(f) for f in feature_metadata['overlaps_features']]))\n",
      "    upstream_of = list(set([get_feature_label(f) for f in feature_metadata['snv_is_upstream_of']]))\n",
      "    downstream_of = list(set([get_feature_label(f) for f in feature_metadata['snv_is_downstream_of']]))\n",
      "    return pd.Series({\n",
      "        'overlaps_features': overlap_feature_names,\n",
      "        'snv_is_upstream_of': upstream_of,\n",
      "        'snv_is_downstream_of': downstream_of\n",
      "    })\n",
      "variants_with_gene_info_df = variants_df.join(variants_df.apply(get_feature_metadata, axis=1))\n",
      "#variants_with_gene_info_df[['POSITION', 'CHROMOSOME', 'overlaps_features', 'snv_is_upstream_of', 'snv_is_downstream_of']]"
     ],
     "language": "python",
     "metadata": {},
     "outputs": [],
     "prompt_number": 9
    },
    {
     "cell_type": "markdown",
     "metadata": {},
     "source": [
      "## Analyze variants\n",
      "\n",
      "Identify mutations that are not called in parent strains."
     ]
    },
    {
     "cell_type": "code",
     "collapsed": false,
     "input": [
      "def get_none_mutations_in_strain(strain_label):\n",
      "    return variants_df[variants_df.apply(\n",
      "            lambda row: row['EXPERIMENT_SAMPLE_LABEL'] == strain_label and\n",
      "                    (row['GT_TYPE'] == 0 or row['GT_TYPE'] == 1), axis=1)]\n",
      "\n",
      "var_positions_in_adk_d6_dependent_strain = get_none_mutations_in_strain('adk.d6_DEP')\n",
      "print len(var_positions_in_adk_d6_dependent_strain)\n",
      "var_positions_in_tyrS_d8_dependent_strain = get_none_mutations_in_strain('tyrS.d8_DEP')\n",
      "print len(var_positions_in_tyrS_d8_dependent_strain)"
     ],
     "language": "python",
     "metadata": {},
     "outputs": [
      {
       "output_type": "stream",
       "stream": "stdout",
       "text": [
        "18\n",
        "15\n"
       ]
      }
     ],
     "prompt_number": 10
    },
    {
     "cell_type": "markdown",
     "metadata": {},
     "source": [
      "Now we look at the mutations that are not in the initial strains."
     ]
    },
    {
     "cell_type": "code",
     "collapsed": false,
     "input": [
      "def is_new_variant(row):\n",
      "    if re.search('DEP', row['EXPERIMENT_SAMPLE_LABEL']):\n",
      "        return False\n",
      "    if row['lineage'] == 'adk':\n",
      "        reference_position_set = var_positions_in_adk_d6_dependent_strain\n",
      "    elif row['lineage'] == 'tyrS':\n",
      "        reference_position_set = var_positions_in_tyrS_d8_dependent_strain\n",
      "    else:\n",
      "        raise AssertionError(\"Unknown lineage\")\n",
      "        \n",
      "    return row['GT_TYPE'] in (1, 2) and not row['POSITION'] in reference_position_set"
     ],
     "language": "python",
     "metadata": {},
     "outputs": [],
     "prompt_number": 11
    },
    {
     "cell_type": "code",
     "collapsed": false,
     "input": [
      "variants_with_gene_info_df['is_new_variant'] = variants_df.apply(is_new_variant, axis=1)\n",
      "variants_with_gene_info_df[['POSITION', 'CHROMOSOME', 'EXPERIMENT_SAMPLE_LABEL', 'GT_TYPE', 'is_new_variant']][:3]"
     ],
     "language": "python",
     "metadata": {},
     "outputs": [
      {
       "html": [
        "<div style=\"max-height:1000px;max-width:1500px;overflow:auto;\">\n",
        "<table border=\"1\" class=\"dataframe\">\n",
        "  <thead>\n",
        "    <tr style=\"text-align: right;\">\n",
        "      <th></th>\n",
        "      <th>POSITION</th>\n",
        "      <th>CHROMOSOME</th>\n",
        "      <th>EXPERIMENT_SAMPLE_LABEL</th>\n",
        "      <th>GT_TYPE</th>\n",
        "      <th>is_new_variant</th>\n",
        "    </tr>\n",
        "  </thead>\n",
        "  <tbody>\n",
        "    <tr>\n",
        "      <th>0</th>\n",
        "      <td> 3386</td>\n",
        "      <td> pEVOL-bipA</td>\n",
        "      <td> adk.d6_Esc3</td>\n",
        "      <td> 2</td>\n",
        "      <td> True</td>\n",
        "    </tr>\n",
        "    <tr>\n",
        "      <th>1</th>\n",
        "      <td> 3386</td>\n",
        "      <td> pEVOL-bipA</td>\n",
        "      <td> adk.d6_Esc1</td>\n",
        "      <td> 2</td>\n",
        "      <td> True</td>\n",
        "    </tr>\n",
        "    <tr>\n",
        "      <th>2</th>\n",
        "      <td> 3386</td>\n",
        "      <td> pEVOL-bipA</td>\n",
        "      <td> adk.d6_Esc2</td>\n",
        "      <td> 2</td>\n",
        "      <td> True</td>\n",
        "    </tr>\n",
        "  </tbody>\n",
        "</table>\n",
        "<p>3 rows \u00d7 5 columns</p>\n",
        "</div>"
       ],
       "metadata": {},
       "output_type": "pyout",
       "prompt_number": 12,
       "text": [
        "   POSITION  CHROMOSOME EXPERIMENT_SAMPLE_LABEL  GT_TYPE is_new_variant\n",
        "0      3386  pEVOL-bipA             adk.d6_Esc3        2           True\n",
        "1      3386  pEVOL-bipA             adk.d6_Esc1        2           True\n",
        "2      3386  pEVOL-bipA             adk.d6_Esc2        2           True\n",
        "\n",
        "[3 rows x 5 columns]"
       ]
      }
     ],
     "prompt_number": 12
    },
    {
     "cell_type": "code",
     "collapsed": false,
     "input": [
      "new_variants_relative_to_dep_df = variants_with_gene_info_df[\n",
      "        variants_with_gene_info_df.is_new_variant]\n",
      "len(new_variants_relative_to_dep_df)"
     ],
     "language": "python",
     "metadata": {},
     "outputs": [
      {
       "metadata": {},
       "output_type": "pyout",
       "prompt_number": 13,
       "text": [
        "235"
       ]
      }
     ],
     "prompt_number": 13
    },
    {
     "cell_type": "markdown",
     "metadata": {},
     "source": [
      "Output for analysis"
     ]
    },
    {
     "cell_type": "code",
     "collapsed": false,
     "input": [
      "new_variants_relative_to_dep_df.to_csv('data/2014_07_10_new_variants_in_escapees_relative_to_dep.all_cols.csv')\n",
      "\n",
      "DISPLAY_COLS = [\n",
      "    'POSITION',\n",
      "    'CHROMOSOME',\n",
      "    'REF',\n",
      "    'ALT',\n",
      "    'EXPERIMENT_SAMPLE_LABEL',\n",
      "    'lineage',\n",
      "    'GT_TYPE',\n",
      "    'overlaps_features',\n",
      "    'snv_is_downstream_of',\n",
      "    'snv_is_upstream_of'\n",
      "]\n",
      "new_variants_relative_to_dep_df[DISPLAY_COLS].to_csv(\n",
      "        'data/2014_07_10_new_variants_in_escapees_relative_to_dep.csv')"
     ],
     "language": "python",
     "metadata": {},
     "outputs": [],
     "prompt_number": 14
    }
   ],
   "metadata": {}
  }
 ]
}